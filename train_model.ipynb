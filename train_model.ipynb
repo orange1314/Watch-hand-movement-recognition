{
 "cells": [
  {
   "cell_type": "code",
   "execution_count": 13,
   "id": "78d01d80-4622-4e41-9cd9-fd0428538dad",
   "metadata": {},
   "outputs": [],
   "source": [
    "import aw_write_model\n",
    "from aw_write_model import aw_train, detect_action_segments_with_changepoint_voting"
   ]
  },
  {
   "cell_type": "code",
   "execution_count": 19,
   "id": "4034146f-e2cd-4fbf-a327-e35ea32b77c7",
   "metadata": {},
   "outputs": [],
   "source": [
    "expsmooth = 0.0001\n",
    "gmmsmooth = 1\n",
    "n_components =30\n",
    "all_variables = ['GravityX', 'GravityY', 'GravityZ', 'UserAccelerationX', 'UserAccelerationY', 'UserAccelerationZ', 'RotationRateX', 'RotationRateY', 'RotationRateZ', 'AttitudeRoll', 'AttitudePitch', 'AttitudeYaw']\n",
    "part_variables = ['GravityX', 'GravityY', 'GravityZ', 'UserAccelerationX', 'UserAccelerationY', 'UserAccelerationZ']\n"
   ]
  },
  {
   "cell_type": "code",
   "execution_count": 3,
   "id": "2cddc340-5fa7-418d-940b-37c605431c43",
   "metadata": {},
   "outputs": [
    {
     "name": "stdout",
     "output_type": "stream",
     "text": [
      "總共有 31795 段時間序列數據，每段長度為 100\n",
      "信賴區間結果已保存至 saved_models/write/boundary_densities.pkl\n"
     ]
    }
   ],
   "source": [
    "model = 'write'\n",
    "\n",
    "aw_train(base_dir='data/'+ model,\n",
    "          saved_models_dir='saved_models/' + model,\n",
    "          plot_dir='pic/ProbabilityDensity',\n",
    "          segment_size=100,\n",
    "          window_size=10,\n",
    "          variables = part_variables,\n",
    "          confidence_level=0.997,\n",
    "          gmmsmooth=gmmsmooth,\n",
    "          expsmooth = expsmooth,\n",
    "          plot=True,\n",
    "          n_components=n_components)"
   ]
  },
  {
   "cell_type": "code",
   "execution_count": 4,
   "id": "475f0930-d83e-48d1-9769-60eb56934fe1",
   "metadata": {},
   "outputs": [
    {
     "name": "stdout",
     "output_type": "stream",
     "text": [
      "總共有 56960 段時間序列數據，每段長度為 100\n",
      "信賴區間結果已保存至 saved_models/Eraser/boundary_densities.pkl\n"
     ]
    }
   ],
   "source": [
    "model = 'Eraser'\n",
    "\n",
    "aw_train(base_dir='data/'+ model,\n",
    "          saved_models_dir='saved_models/' + model,\n",
    "          plot_dir='pic/ProbabilityDensity',\n",
    "          segment_size=100,\n",
    "          window_size=2,\n",
    "          variables = part_variables,\n",
    "          confidence_level=0.997,\n",
    "          gmmsmooth=gmmsmooth,\n",
    "          expsmooth = 0.0005,\n",
    "          plot=True,\n",
    "          n_components=n_components)"
   ]
  },
  {
   "cell_type": "code",
   "execution_count": 20,
   "id": "d8ed5f70-aa4b-4c1f-98eb-3c82cf763aab",
   "metadata": {},
   "outputs": [
    {
     "name": "stdout",
     "output_type": "stream",
     "text": [
      "總共有 33109 段時間序列數據，每段長度為 100\n",
      "信賴區間結果已保存至 saved_models/Game/boundary_densities.pkl\n"
     ]
    }
   ],
   "source": [
    "model = 'Game'\n",
    "\n",
    "aw_train(base_dir='data/'+ model,\n",
    "          saved_models_dir='saved_models/' + model,\n",
    "          plot_dir='pic/ProbabilityDensity',\n",
    "          segment_size=100,\n",
    "          window_size=2,\n",
    "          variables = part_variables,\n",
    "          confidence_level=0.997,\n",
    "          gmmsmooth=gmmsmooth,\n",
    "          expsmooth = expsmooth,\n",
    "          plot=True,\n",
    "          n_components=n_components)"
   ]
  },
  {
   "cell_type": "code",
   "execution_count": 15,
   "id": "b01bd2a5-ac75-462d-b6af-8de0bf9dbbd7",
   "metadata": {},
   "outputs": [
    {
     "name": "stdout",
     "output_type": "stream",
     "text": [
      "總共有 34017 段時間序列數據，每段長度為 100\n",
      "信賴區間結果已保存至 saved_models/points/boundary_densities.pkl\n"
     ]
    }
   ],
   "source": [
    "model = 'points'\n",
    "\n",
    "aw_train(base_dir='data/'+ model,\n",
    "          saved_models_dir='saved_models/' + model,\n",
    "          plot_dir='pic/ProbabilityDensity',\n",
    "          segment_size=100,\n",
    "          window_size=1,\n",
    "          variables = part_variables,\n",
    "          confidence_level=0.95,\n",
    "          gmmsmooth=gmmsmooth,\n",
    "          expsmooth = 0.0005,\n",
    "          plot=True,\n",
    "          n_components=n_components)"
   ]
  },
  {
   "cell_type": "code",
   "execution_count": 7,
   "id": "e0a38100-b017-4ae3-818b-8468779741c0",
   "metadata": {},
   "outputs": [],
   "source": [
    "import joblib\n",
    "\n",
    "# Attempting to load the uploaded .pkl file to check the number of components/parameters\n",
    "file_path = 'saved_models/Eraser/GravityX_gmm.pkl'\n",
    "\n",
    "model = joblib.load(file_path)"
   ]
  },
  {
   "cell_type": "code",
   "execution_count": 8,
   "id": "a37fd1a6-433f-4ca9-a2d8-712bbd833c3a",
   "metadata": {},
   "outputs": [
    {
     "name": "stdout",
     "output_type": "stream",
     "text": [
      "單一動作模型參數量：\n",
      "  - 高斯混合參數：360\n",
      "  - 高斯混合信賴區間：24\n",
      "  - 指數分布參數：12\n",
      "  - 指數分布信賴區間：12\n",
      "總共：408\n"
     ]
    }
   ],
   "source": [
    "print(\n",
    "    f\"單一動作模型參數量：\\n\"\n",
    "    f\"  - 高斯混合參數：{len(part_variables) * n_components}\\n\"\n",
    "    f\"  - 高斯混合信賴區間：{len(part_variables) * 2}\\n\"\n",
    "    f\"  - 指數分布參數：{len(part_variables)}\\n\"\n",
    "    f\"  - 指數分布信賴區間：{len(part_variables)}\\n\"\n",
    "    f\"總共：{len(part_variables) * n_components + len(part_variables) * 2 + len(part_variables) + len(part_variables)}\"\n",
    ")\n"
   ]
  },
  {
   "cell_type": "code",
   "execution_count": 9,
   "id": "8f767d46-b8b0-4c5a-ad2a-1972242a3ff1",
   "metadata": {},
   "outputs": [
    {
     "name": "stdout",
     "output_type": "stream",
     "text": [
      "            Subfolder  CSV_Count  Total_Rows\n",
      "0                Game         15      129382\n",
      "1               noise         16       99975\n",
      "2              points         11       34810\n",
      "3         sample_data         23       30872\n",
      "4               write         14      319164\n",
      "5              Eraser         16      115299\n",
      "6  .ipynb_checkpoints          0           0\n"
     ]
    }
   ],
   "source": [
    "import os\n",
    "import pandas as pd\n",
    "\n",
    "# 設定主資料夾路徑\n",
    "main_folder = 'data'  # 請替換為您的主資料夾路徑\n",
    "\n",
    "# 儲存結果\n",
    "folder_summary = []\n",
    "\n",
    "# 遍歷主資料夾底下的所有子資料夾\n",
    "for subfolder in os.listdir(main_folder):\n",
    "    subfolder_path = os.path.join(main_folder, subfolder)\n",
    "    if os.path.isdir(subfolder_path):  # 確認是子資料夾\n",
    "        csv_count = 0  # 計算 CSV 檔案數量\n",
    "        total_rows = 0  # 計算總資料量（行數總和）\n",
    "\n",
    "        # 遍歷子資料夾中的每個檔案\n",
    "        for file in os.listdir(subfolder_path):\n",
    "            if file.endswith('.csv'):\n",
    "                csv_count += 1  # 增加 CSV 檔案計數\n",
    "                file_path = os.path.join(subfolder_path, file)\n",
    "                data = pd.read_csv(file_path, encoding='ISO-8859-1')  # 讀取 CSV 檔案\n",
    "                total_rows += len(data)  # 累加資料行數\n",
    "\n",
    "        # 將結果儲存到列表\n",
    "        folder_summary.append({\n",
    "            'Subfolder': subfolder,\n",
    "            'CSV_Count': csv_count,\n",
    "            'Total_Rows': total_rows\n",
    "        })\n",
    "\n",
    "# 將結果轉換為 DataFrame 並顯示\n",
    "summary_df = pd.DataFrame(folder_summary)\n",
    "print(summary_df)\n"
   ]
  },
  {
   "cell_type": "code",
   "execution_count": 10,
   "id": "f3793797-1507-4041-90ad-9ee150248c07",
   "metadata": {},
   "outputs": [
    {
     "name": "stdout",
     "output_type": "stream",
     "text": [
      "模型大小: 2.05068111 MB\n"
     ]
    }
   ],
   "source": [
    "import os\n",
    "\n",
    "model_path = 'catboost/catboost_model.pkl'\n",
    "file_size = os.path.getsize(model_path)\n",
    "\n",
    "# 將字節轉換為 MB\n",
    "file_size_mb = file_size / (1024 * 1024)\n",
    "print(f\"模型大小: {file_size_mb:.8f} MB\")\n"
   ]
  },
  {
   "cell_type": "code",
   "execution_count": 11,
   "id": "7d833bca-db59-4e19-b336-9e163d6b977d",
   "metadata": {},
   "outputs": [
    {
     "name": "stdout",
     "output_type": "stream",
     "text": [
      "模型大小: 0.00558758 MB\n"
     ]
    }
   ],
   "source": [
    "import os\n",
    "\n",
    "model_path = 'saved_models/Game/GravityX_gmm.pkl'\n",
    "file_size = os.path.getsize(model_path)\n",
    "\n",
    "# 將字節轉換為 MB\n",
    "file_size_mb = file_size / (1024 * 1024)\n",
    "print(f\"模型大小: {file_size_mb:.8f} MB\")\n"
   ]
  },
  {
   "cell_type": "code",
   "execution_count": 12,
   "id": "2fccf695-3c8e-45af-af86-7bb2159d27b6",
   "metadata": {},
   "outputs": [
    {
     "name": "stdout",
     "output_type": "stream",
     "text": [
      "模型大小: 0.00316906 MB\n"
     ]
    }
   ],
   "source": [
    "import os\n",
    "\n",
    "model_path = 'saved_models/Game/GravityX_variance_exp.pkl'\n",
    "file_size = os.path.getsize(model_path)\n",
    "\n",
    "# 將字節轉換為 MB\n",
    "file_size_mb = file_size / (1024 * 1024)\n",
    "print(f\"模型大小: {file_size_mb:.8f} MB\")\n"
   ]
  },
  {
   "cell_type": "code",
   "execution_count": 16,
   "id": "42e5fe3e-9a6a-4e93-acc4-f837782601c1",
   "metadata": {},
   "outputs": [
    {
     "name": "stdout",
     "output_type": "stream",
     "text": [
      "模型大小: 0.00038815 MB\n"
     ]
    }
   ],
   "source": [
    "import os\n",
    "\n",
    "model_path = 'saved_models/points/boundary_densities.pkl'\n",
    "file_size = os.path.getsize(model_path)\n",
    "\n",
    "# 將字節轉換為 MB\n",
    "file_size_mb = file_size / (1024 * 1024)\n",
    "print(f\"模型大小: {file_size_mb:.8f} MB\")\n"
   ]
  },
  {
   "cell_type": "code",
   "execution_count": null,
   "id": "3af9041a-4b8a-46ab-a810-94498e02e0a5",
   "metadata": {},
   "outputs": [],
   "source": [
    "import os\n",
    "\n",
    "model_path = 'saved_models/Game/GravityX_variance_exp.pkl'\n",
    "file_size = os.path.getsize(model_path)\n",
    "\n",
    "# 將字節轉換為 MB\n",
    "file_size_mb = file_size / (1024 * 1024)\n",
    "print(f\"模型大小: {file_size_mb:.8f} MB\")"
   ]
  },
  {
   "cell_type": "code",
   "execution_count": 17,
   "id": "d8feb6de-d3e1-444c-9a69-2b705b9599b9",
   "metadata": {},
   "outputs": [
    {
     "data": {
      "text/plain": [
       "0.02665807"
      ]
     },
     "execution_count": 17,
     "metadata": {},
     "output_type": "execute_result"
    }
   ],
   "source": [
    "0.00558758*3+0.00316906*3+0.00038815"
   ]
  }
 ],
 "metadata": {
  "kernelspec": {
   "display_name": "finlab",
   "language": "python",
   "name": "finlab"
  },
  "language_info": {
   "codemirror_mode": {
    "name": "ipython",
    "version": 3
   },
   "file_extension": ".py",
   "mimetype": "text/x-python",
   "name": "python",
   "nbconvert_exporter": "python",
   "pygments_lexer": "ipython3",
   "version": "3.9.18"
  }
 },
 "nbformat": 4,
 "nbformat_minor": 5
}
