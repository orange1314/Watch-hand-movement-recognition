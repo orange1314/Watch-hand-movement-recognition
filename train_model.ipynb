{
 "cells": [
  {
   "cell_type": "code",
   "execution_count": 8,
   "id": "78d01d80-4622-4e41-9cd9-fd0428538dad",
   "metadata": {},
   "outputs": [],
   "source": [
    "import aw_write_model\n",
    "from aw_write_model import aw_train, detect_action_segments_with_changepoint_voting"
   ]
  },
  {
   "cell_type": "code",
   "execution_count": 9,
   "id": "4034146f-e2cd-4fbf-a327-e35ea32b77c7",
   "metadata": {},
   "outputs": [],
   "source": [
    "expsmooth = 0.0001"
   ]
  },
  {
   "cell_type": "code",
   "execution_count": 10,
   "id": "2cddc340-5fa7-418d-940b-37c605431c43",
   "metadata": {},
   "outputs": [
    {
     "name": "stdout",
     "output_type": "stream",
     "text": [
      "總共有 28614 段時間序列數據，每段長度為 100\n",
      "信賴區間結果已保存至 saved_models/write\\boundary_densities.pkl\n"
     ]
    }
   ],
   "source": [
    "model = 'write'\n",
    "\n",
    "aw_train(base_dir='data/'+ model,\n",
    "          saved_models_dir='saved_models/' + model,\n",
    "          plot_dir='pic/ProbabilityDensity',\n",
    "          segment_size=100,\n",
    "          window_size=10,\n",
    "          confidence_level=0.997,\n",
    "          gmmsmooth=1,\n",
    "          expsmooth = expsmooth,\n",
    "          plot=True,\n",
    "          n_components=30)"
   ]
  },
  {
   "cell_type": "code",
   "execution_count": 11,
   "id": "475f0930-d83e-48d1-9769-60eb56934fe1",
   "metadata": {},
   "outputs": [
    {
     "name": "stdout",
     "output_type": "stream",
     "text": [
      "總共有 8204 段時間序列數據，每段長度為 100\n",
      "信賴區間結果已保存至 saved_models/eraor\\boundary_densities.pkl\n"
     ]
    }
   ],
   "source": [
    "model = 'eraor'\n",
    "\n",
    "aw_train(base_dir='data/'+ model,\n",
    "          saved_models_dir='saved_models/' + model,\n",
    "          plot_dir='pic/ProbabilityDensity',\n",
    "          segment_size=100,\n",
    "          window_size=10,\n",
    "          confidence_level=0.997,\n",
    "          gmmsmooth=1,\n",
    "          expsmooth = expsmooth,\n",
    "          plot=True,\n",
    "          n_components=30)"
   ]
  },
  {
   "cell_type": "code",
   "execution_count": 12,
   "id": "d8ed5f70-aa4b-4c1f-98eb-3c82cf763aab",
   "metadata": {},
   "outputs": [
    {
     "name": "stdout",
     "output_type": "stream",
     "text": [
      "總共有 6403 段時間序列數據，每段長度為 100\n",
      "信賴區間結果已保存至 saved_models/Game\\boundary_densities.pkl\n"
     ]
    }
   ],
   "source": [
    "model = 'Game'\n",
    "\n",
    "aw_train(base_dir='data/'+ model,\n",
    "          saved_models_dir='saved_models/' + model,\n",
    "          plot_dir='pic/ProbabilityDensity',\n",
    "          segment_size=100,\n",
    "          window_size=10,\n",
    "          confidence_level=0.997,\n",
    "          gmmsmooth=1,\n",
    "          expsmooth = expsmooth,\n",
    "          plot=True,\n",
    "          n_components=30)"
   ]
  },
  {
   "cell_type": "code",
   "execution_count": null,
   "id": "b01bd2a5-ac75-462d-b6af-8de0bf9dbbd7",
   "metadata": {},
   "outputs": [],
   "source": []
  }
 ],
 "metadata": {
  "kernelspec": {
   "display_name": "Python (ADHD)",
   "language": "python",
   "name": "adhd"
  },
  "language_info": {
   "codemirror_mode": {
    "name": "ipython",
    "version": 3
   },
   "file_extension": ".py",
   "mimetype": "text/x-python",
   "name": "python",
   "nbconvert_exporter": "python",
   "pygments_lexer": "ipython3",
   "version": "3.10.15"
  }
 },
 "nbformat": 4,
 "nbformat_minor": 5
}
