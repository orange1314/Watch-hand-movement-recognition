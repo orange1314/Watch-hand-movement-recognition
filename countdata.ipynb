{
 "cells": [
  {
   "cell_type": "code",
   "execution_count": 2,
   "id": "d5012230-44d5-40a8-b3b8-d9b1fddf3c7e",
   "metadata": {},
   "outputs": [
    {
     "name": "stdout",
     "output_type": "stream",
     "text": [
      "所有 CSV 檔案的總筆數: 6243\n",
      "所有 CSV 檔案的總大小: 1.19 MB\n"
     ]
    }
   ],
   "source": [
    "import os\n",
    "import pandas as pd\n",
    "\n",
    "def count_total_rows_and_size(directory_path):\n",
    "    total_rows = 0\n",
    "    total_size = 0\n",
    "    \n",
    "    # 遍歷指定路徑中的檔案\n",
    "    for filename in os.listdir(directory_path):\n",
    "        # 只處理 CSV 檔案\n",
    "        if filename.endswith(\".csv\"):\n",
    "            file_path = os.path.join(directory_path, filename)\n",
    "            # 讀取 CSV 檔案並累加筆數\n",
    "            df = pd.read_csv(file_path)\n",
    "            total_rows += len(df)\n",
    "            # 累加檔案大小\n",
    "            total_size += os.path.getsize(file_path)\n",
    "    \n",
    "    return total_rows, total_size\n",
    "\n",
    "# 設定要計算的資料夾路徑\n",
    "directory_path = \"data/points\"\n",
    "total_count, total_size = count_total_rows_and_size(directory_path)\n",
    "\n",
    "print(f\"所有 CSV 檔案的總筆數: {total_count}\")\n",
    "print(f\"所有 CSV 檔案的總大小: {total_size / (1024 * 1024):.2f} MB\")\n"
   ]
  },
  {
   "cell_type": "code",
   "execution_count": null,
   "id": "ad676cb6-03e7-46f1-946b-03b91882244e",
   "metadata": {},
   "outputs": [],
   "source": []
  }
 ],
 "metadata": {
  "kernelspec": {
   "display_name": "Python 3 (ipykernel)",
   "language": "python",
   "name": "python3"
  },
  "language_info": {
   "codemirror_mode": {
    "name": "ipython",
    "version": 3
   },
   "file_extension": ".py",
   "mimetype": "text/x-python",
   "name": "python",
   "nbconvert_exporter": "python",
   "pygments_lexer": "ipython3",
   "version": "3.10.15"
  }
 },
 "nbformat": 4,
 "nbformat_minor": 5
}
