import aw_write_model
from aw_write_model import aw_train, detect_handaction_segments


aw_train(base_dir='data/eraor',
          saved_models_dir='saved_models/eraor',
          plot_dir='pic/ProbabilityDensity',
          segment_size=100,
          window_size=50,
          confidence_level=0.997,
          gmmsmooth=1,
          expsmooth=0.0001,
          plot=True,
          n_components=30)


# pre = detect_handaction_segments(file_path = 'test/eraor/yoliang_combined_part2.csv',model_dir = 'saved_models/eraor', segment_size=100, output_image_path='pic/predict')


import os
import pandas as pd
import seaborn as sns
import matplotlib.pyplot as plt
from sklearn.metrics import confusion_matrix, accuracy_score

def safe_read_csv(file_path):
    """Safely read a CSV file and handle errors."""
    try:
        data = pd.read_csv(file_path, encoding='ISO-8859-1')
        if data.empty:
            return None
        return data
    except (pd.errors.EmptyDataError, pd.errors.ParserError):
        print(f"Skipping problematic file: {file_path}")
        return None

def process_files(folder, label, segment_size, y_true, y_pred, model_dir):
    """Process files from a folder, make predictions and update labels."""
    for file_name in os.listdir(folder):
        file_path = os.path.join(folder, file_name)
        if os.path.isfile(file_path) and file_name.endswith('.csv'):  # Only process CSV files
            print(f"Evaluating file: {file_name} ({label})")
            data = safe_read_csv(file_path)
            if data is not None:
                try:
                    # 調用 detect_handaction_segments 函數進行預測
                    pred = detect_handaction_segments(file_path=file_path, model_dir=model_dir, segment_size=segment_size)
                except Exception as e:
                    print(f"Error processing file {file_name}: {e}")
                    continue
                y_true.extend([label] * len(pred))
                y_pred.extend(pred)

def evaluate_model(noise_folder='test/non-eraor', action_folder='test/eraor', model_dir='saved_models/eraor', segment_size=100):
    y_true, y_pred = [], []

    # 取得資料夾名稱作為標籤
    noise_label = os.path.basename(noise_folder)  # 獲取 non-writing 資料夾的名稱
    write_label = os.path.basename(action_folder)  # 獲取 write 資料夾的名稱
    labels = [write_label, noise_label]  # 動態設置標籤

    # 處理 non-writing 和 write 資料夾中的文件
    process_files(noise_folder, noise_label, segment_size, y_true, y_pred, model_dir)
    process_files(action_folder, write_label, segment_size, y_true, y_pred, model_dir)

    # 計算混淆矩陣和準確率
    cm = confusion_matrix(y_true, y_pred, labels=labels)  # 使用動態標籤
    accuracy = accuracy_score(y_true, y_pred)

    # 繪製混淆矩陣
    plt.figure(figsize=(8, 6))
    sns.heatmap(cm, annot=True, fmt='d', cmap='Blues', xticklabels=labels, yticklabels=labels)
    plt.xlabel('Predicted Label')
    plt.ylabel('True Label')
    plt.title('Confusion Matrix')

    # 保存混淆矩陣圖片
    pic_path = os.path.join('test', 'pic', 'predict', 'confusion_matrix.png')
    os.makedirs(os.path.dirname(pic_path), exist_ok=True)
    plt.savefig(pic_path)
    plt.close()

    print("\nConfusion Matrix:")
    print(cm)
    print(f"\nAccuracy: {accuracy * 100:.2f}%")

    return cm, accuracy

# 執行模型效能評估
result = evaluate_model()










