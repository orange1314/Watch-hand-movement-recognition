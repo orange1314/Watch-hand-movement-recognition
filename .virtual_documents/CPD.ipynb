import aw_write_model
from aw_write_model import aw_train, detect_handaction_segments


import pandas as pd
import numpy as np
from sklearn.decomposition import PCA
import ruptures as rpt
import matplotlib.pyplot as plt

# 讀取資料
data = pd.read_csv('test/eraor/yoliang_combined_part2.csv', encoding='ISO-8859-1')

# 提取 GravityX, GravityY, GravityZ
gravity_data = data[['GravityX', 'GravityY', 'GravityZ']]

# 使用 PCA 對 GravityX, GravityY, GravityZ 進行降維，取第一主成分
pca = PCA(n_components=1)
pc1 = pca.fit_transform(gravity_data)

# 將 PC1 添加到原始資料中
data['PC1'] = pc1

# 使用變換點檢測找到變換點，這裡使用 PELT 演算法
algo = rpt.Pelt(model="rbf").fit(data['PC1'].values.reshape(-1, 1))
change_points = algo.predict(pen=50)

# 根據變換點將資料切割成多個區間
segments = []
start_idx = 0
for cp in change_points:
    segments.append((start_idx, cp))
    start_idx = cp

# 假設每個樣本的預測結果存在 pre 這個列表中
pre = detect_handaction_segments(file_path = 'test/eraor/yoliang_combined_part2.csv',model_dir = 'saved_models/eraor', segment_size=100, output_image_path='pic/yoliang_eraor')

# 將預測結果添加到資料中
if 'Prediction' not in data.columns:
    data['Prediction'] = pre

# 對每個區間內的資料投票決定這個區間到底是不是擦橡皮擦
for (start, end) in segments:
    segment_preds = data['Prediction'].iloc[start:end]
    # 投票決定該區間的類別（這裡使用眾數作為區間的最終類別）
    majority_vote = segment_preds.mode()[0]
    # 更新區間內的所有預測結果
    data.loc[start:end, 'Prediction'] = majority_vote

# 統計總體統計數據
num_segments = len(segments)
eraor_segments = sum(data['Prediction'].iloc[start:end].mode()[0] == 'eraor' for (start, end) in segments)
non_eraor_segments = num_segments - eraor_segments

print(f"總片段數: {num_segments}")
print(f"eraor 片段數: {eraor_segments} ({eraor_segments / num_segments * 100:.2f}%)")
print(f"non-eraor 片段數: {non_eraor_segments} ({non_eraor_segments / num_segments * 100:.2f}%)")

# 畫出時序圖，並用紅色直線分開寫字和非寫字的部分
plt.figure(figsize=(10, 6))
plt.plot(data.index, data['PC1'], label='PC1')

# 在變換點處畫紅色直線
for cp in change_points:
    plt.axvline(x=cp, color='red', linestyle='--')

plt.xlabel('Index')
plt.ylabel('PC1 Value')
plt.title('PC1 with Change Points')
plt.legend()
plt.show()



